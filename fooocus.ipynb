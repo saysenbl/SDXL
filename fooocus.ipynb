{
  "cells": [
    {
      "cell_type": "markdown",
      "metadata": {
        "id": "view-in-github",
        "colab_type": "text"
      },
      "source": [
        "<a href=\"https://colab.research.google.com/github/saysenbl/SDXL/blob/main/fooocus.ipynb\" target=\"_parent\"><img src=\"https://colab.research.google.com/assets/colab-badge.svg\" alt=\"Open In Colab\"/></a>"
      ]
    },
    {
      "cell_type": "markdown",
      "source": [
        "# Montar en Google Drive"
      ],
      "metadata": {
        "id": "9Bftn3SxVAmH"
      }
    },
    {
      "cell_type": "code",
      "execution_count": 20,
      "metadata": {
        "colab": {
          "base_uri": "https://localhost:8080/"
        },
        "id": "wLRG7Kn_G94p",
        "outputId": "190af47f-67d4-49f6-a2b0-169757053e2a"
      },
      "outputs": [
        {
          "output_type": "stream",
          "name": "stdout",
          "text": [
            "Drive already mounted at /content/gdrive; to attempt to forcibly remount, call drive.mount(\"/content/gdrive\", force_remount=True).\n"
          ]
        }
      ],
      "source": [
        "from google.colab import drive\n",
        "drive.mount('/content/gdrive')"
      ]
    },
    {
      "cell_type": "code",
      "execution_count": 21,
      "metadata": {
        "colab": {
          "base_uri": "https://localhost:8080/"
        },
        "id": "Afny_TxdIHiQ",
        "outputId": "b6843be4-2255-4a6f-f9e0-d18ee1508246"
      },
      "outputs": [
        {
          "output_type": "stream",
          "name": "stdout",
          "text": [
            "/content/gdrive/MyDrive\n"
          ]
        }
      ],
      "source": [
        "%cd /content/gdrive/MyDrive"
      ]
    },
    {
      "cell_type": "markdown",
      "source": [
        "# intalar recursos"
      ],
      "metadata": {
        "id": "QIdwDRiyV243"
      }
    },
    {
      "cell_type": "code",
      "execution_count": 22,
      "metadata": {
        "colab": {
          "base_uri": "https://localhost:8080/"
        },
        "collapsed": true,
        "id": "Pn20_ZV6WFi0",
        "outputId": "3be26e68-7138-4fef-d89d-8be9c39690a2"
      },
      "outputs": [
        {
          "output_type": "stream",
          "name": "stdout",
          "text": [
            "Requirement already satisfied: pygit2==1.15.1 in /usr/local/lib/python3.10/dist-packages (1.15.1)\n",
            "Requirement already satisfied: cffi>=1.16.0 in /usr/local/lib/python3.10/dist-packages (from pygit2==1.15.1) (1.17.1)\n",
            "Requirement already satisfied: pycparser in /usr/local/lib/python3.10/dist-packages (from cffi>=1.16.0->pygit2==1.15.1) (2.22)\n"
          ]
        }
      ],
      "source": [
        "!pip install pygit2==1.15.1"
      ]
    },
    {
      "cell_type": "markdown",
      "source": [
        "clonar el repositorio de Fooocus"
      ],
      "metadata": {
        "id": "VIYBrD4DU-Pm"
      }
    },
    {
      "cell_type": "code",
      "execution_count": 17,
      "metadata": {
        "id": "VjYy0F2gZIPR",
        "colab": {
          "base_uri": "https://localhost:8080/"
        },
        "collapsed": true,
        "outputId": "d696a320-ead8-4f35-fba1-f3f87b8bb21a"
      },
      "outputs": [
        {
          "output_type": "stream",
          "name": "stdout",
          "text": [
            "Cloning into 'Fooocus'...\n",
            "remote: Enumerating objects: 6718, done.\u001b[K\n",
            "remote: Counting objects: 100% (31/31), done.\u001b[K\n",
            "remote: Compressing objects: 100% (21/21), done.\u001b[K\n",
            "remote: Total 6718 (delta 11), reused 22 (delta 8), pack-reused 6687 (from 1)\u001b[K\n",
            "Receiving objects: 100% (6718/6718), 33.26 MiB | 17.81 MiB/s, done.\n",
            "Resolving deltas: 100% (3870/3870), done.\n",
            "Updating files: 100% (612/612), done.\n",
            "/content/gdrive/MyDrive/Fooocus\n"
          ]
        }
      ],
      "source": [
        "!git clone https://github.com/lllyasviel/Fooocus.git"
      ]
    },
    {
      "cell_type": "code",
      "source": [
        "import os\n",
        "os.makedirs('/content/gdrive/MyDrive/Fooocus/models/loras', exist_ok=True)\n"
      ],
      "metadata": {
        "id": "PAV4ws6NkkNj"
      },
      "execution_count": 25,
      "outputs": []
    },
    {
      "cell_type": "code",
      "source": [
        "!wget -O /content/gdrive/MyDrive/Fooocus/models/loras/flux_lora_lismarie.safetensors https://huggingface.co/saysenbl/lismarie/blob/main/flux_train_replicate.safetensors\n"
      ],
      "metadata": {
        "colab": {
          "base_uri": "https://localhost:8080/"
        },
        "id": "MVgyRCPXqwEI",
        "outputId": "0f990da2-b91e-457a-8790-ac681d27363d"
      },
      "execution_count": 26,
      "outputs": [
        {
          "output_type": "stream",
          "name": "stdout",
          "text": [
            "--2024-09-16 01:31:36--  https://huggingface.co/saysenbl/lismarie/blob/main/flux_train_replicate.safetensors\n",
            "Resolving huggingface.co (huggingface.co)... 3.165.160.11, 3.165.160.59, 3.165.160.12, ...\n",
            "Connecting to huggingface.co (huggingface.co)|3.165.160.11|:443... connected.\n",
            "HTTP request sent, awaiting response... 200 OK\n",
            "Length: 41429 (40K) [text/html]\n",
            "Saving to: ‘/content/gdrive/MyDrive/Fooocus/models/loras/flux_train_replicate.safetensors’\n",
            "\n",
            "/content/gdrive/MyD 100%[===================>]  40.46K  --.-KB/s    in 0.06s   \n",
            "\n",
            "2024-09-16 01:31:36 (650 KB/s) - ‘/content/gdrive/MyDrive/Fooocus/models/loras/flux_train_replicate.safetensors’ saved [41429/41429]\n",
            "\n"
          ]
        }
      ]
    },
    {
      "cell_type": "code",
      "source": [
        "%cd /content/gdrive/MyDrive/Fooocus\n",
        "!python entry_with_update.py --share --always-high-vram\n"
      ],
      "metadata": {
        "id": "ub9eqkmtONzp",
        "colab": {
          "base_uri": "https://localhost:8080/"
        },
        "collapsed": true,
        "outputId": "2a141b0c-c45c-4365-a49f-924cf363e4a8"
      },
      "execution_count": null,
      "outputs": [
        {
          "output_type": "stream",
          "name": "stdout",
          "text": [
            "/content/gdrive/MyDrive/Fooocus\n",
            "Already up-to-date\n",
            "Update succeeded.\n",
            "[System ARGV] ['entry_with_update.py', '--share', '--always-high-vram']\n",
            "Python 3.10.12 (main, Jul 29 2024, 16:56:48) [GCC 11.4.0]\n",
            "Fooocus version: 2.5.5\n",
            "[Cleanup] Attempting to delete content of temp dir /tmp/fooocus\n",
            "[Cleanup] Cleanup successful\n",
            "Total VRAM 15102 MB, total RAM 12979 MB\n",
            "Set vram state to: HIGH_VRAM\n",
            "Always offload VRAM\n",
            "Device: cuda:0 Tesla T4 : native\n",
            "VAE dtype: torch.float32\n",
            "Using pytorch cross attention\n",
            "Refiner unloaded.\n",
            "IMPORTANT: You are using gradio version 3.41.2, however version 4.29.0 is available, please upgrade.\n",
            "--------\n",
            "Running on local URL:  http://127.0.0.1:7865\n",
            "Running on public URL: https://54bc86d2fc0c1695b4.gradio.live\n",
            "\n",
            "This share link expires in 72 hours. For free permanent hosting and GPU upgrades, run `gradio deploy` from Terminal to deploy to Spaces (https://huggingface.co/spaces)\n",
            "model_type EPS\n",
            "UNet ADM Dimension 2816\n",
            "Using pytorch attention in VAE\n",
            "Working with z of shape (1, 4, 32, 32) = 4096 dimensions.\n",
            "Using pytorch attention in VAE\n",
            "extra {'cond_stage_model.clip_l.logit_scale', 'cond_stage_model.clip_l.text_projection'}\n",
            "left over keys: dict_keys(['cond_stage_model.clip_l.transformer.text_model.embeddings.position_ids'])\n",
            "loaded straight to GPU\n",
            "Requested to load SDXL\n",
            "Loading 1 new model\n",
            "Base model loaded: /content/gdrive/MyDrive/Fooocus/models/checkpoints/juggernautXL_v8Rundiffusion.safetensors\n",
            "VAE loaded: None\n",
            "Request to load LoRAs [('sd_xl_offset_example-lora_1.0.safetensors', 0.1)] for model [/content/gdrive/MyDrive/Fooocus/models/checkpoints/juggernautXL_v8Rundiffusion.safetensors].\n",
            "Loaded LoRA [/content/gdrive/MyDrive/Fooocus/models/loras/sd_xl_offset_example-lora_1.0.safetensors] for UNet [/content/gdrive/MyDrive/Fooocus/models/checkpoints/juggernautXL_v8Rundiffusion.safetensors] with 788 keys at weight 0.1.\n",
            "Fooocus V2 Expansion: Vocab with 642 words.\n",
            "Fooocus Expansion engine loaded for cuda:0, use_fp16 = True.\n",
            "Requested to load SDXLClipModel\n",
            "Requested to load GPT2LMHeadModel\n",
            "Loading 2 new models\n",
            "[Fooocus Model Management] Moving model(s) has taken 0.60 seconds\n",
            "2024-09-16 01:33:45.669388: E external/local_xla/xla/stream_executor/cuda/cuda_fft.cc:485] Unable to register cuFFT factory: Attempting to register factory for plugin cuFFT when one has already been registered\n",
            "2024-09-16 01:33:45.695949: E external/local_xla/xla/stream_executor/cuda/cuda_dnn.cc:8454] Unable to register cuDNN factory: Attempting to register factory for plugin cuDNN when one has already been registered\n",
            "2024-09-16 01:33:45.704420: E external/local_xla/xla/stream_executor/cuda/cuda_blas.cc:1452] Unable to register cuBLAS factory: Attempting to register factory for plugin cuBLAS when one has already been registered\n",
            "2024-09-16 01:33:45.736584: I tensorflow/core/platform/cpu_feature_guard.cc:210] This TensorFlow binary is optimized to use available CPU instructions in performance-critical operations.\n",
            "To enable the following instructions: AVX2 FMA, in other operations, rebuild TensorFlow with the appropriate compiler flags.\n",
            "2024-09-16 01:33:48.035657: W tensorflow/compiler/tf2tensorrt/utils/py_utils.cc:38] TF-TRT Warning: Could not find TensorRT\n",
            "Started worker with PID 24040\n",
            "App started successful. Use the app with http://127.0.0.1:7865/ or 127.0.0.1:7865 or https://54bc86d2fc0c1695b4.gradio.live\n",
            "Loaded preset: /content/gdrive/MyDrive/Fooocus/presets/realistic.json\n",
            "[Parameters] Adaptive CFG = 7\n",
            "[Parameters] CLIP Skip = 2\n",
            "[Parameters] Sharpness = 2\n",
            "[Parameters] ControlNet Softness = 0.25\n",
            "[Parameters] ADM Scale = 1.5 : 0.8 : 0.3\n",
            "[Parameters] Seed = 5062555284248197286\n",
            "[Parameters] CFG = 3\n",
            "[Fooocus] Loading control models ...\n",
            "[Parameters] Sampler = dpmpp_2m_sde_gpu - karras\n",
            "[Parameters] Steps = 30 - 15\n",
            "[Fooocus] Initializing ...\n",
            "[Fooocus] Loading models ...\n",
            "Refiner unloaded.\n",
            "model_type EPS\n",
            "UNet ADM Dimension 2816\n",
            "Using pytorch attention in VAE\n",
            "Working with z of shape (1, 4, 32, 32) = 4096 dimensions.\n",
            "Using pytorch attention in VAE\n",
            "extra {'cond_stage_model.clip_l.logit_scale', 'cond_stage_model.clip_l.text_projection'}\n",
            "left over keys: dict_keys(['cond_stage_model.clip_l.transformer.text_model.embeddings.position_ids'])\n",
            "loaded straight to GPU\n",
            "Requested to load SDXL\n",
            "Loading 1 new model\n",
            "[Fooocus Model Management] Moving model(s) has taken 2.24 seconds\n",
            "Base model loaded: /content/gdrive/MyDrive/Fooocus/models/checkpoints/realisticStockPhoto_v20.safetensors\n",
            "VAE loaded: None\n",
            "Request to load LoRAs [('SDXL_FILM_PHOTOGRAPHY_STYLE_V1.safetensors', 0.25), ('flux_train_replicate.safetensors', 1.0)] for model [/content/gdrive/MyDrive/Fooocus/models/checkpoints/realisticStockPhoto_v20.safetensors].\n",
            "Lora file not found: /content/gdrive/MyDrive/Fooocus/models/loras/flux_train_replicate.safetensors\n",
            "Loaded LoRA [/content/gdrive/MyDrive/Fooocus/models/loras/SDXL_FILM_PHOTOGRAPHY_STYLE_V1.safetensors] for UNet [/content/gdrive/MyDrive/Fooocus/models/checkpoints/realisticStockPhoto_v20.safetensors] with 722 keys at weight 0.25.\n",
            "Loaded LoRA [/content/gdrive/MyDrive/Fooocus/models/loras/SDXL_FILM_PHOTOGRAPHY_STYLE_V1.safetensors] for CLIP [/content/gdrive/MyDrive/Fooocus/models/checkpoints/realisticStockPhoto_v20.safetensors] with 264 keys at weight 0.25.\n",
            "Requested to load SDXLClipModel\n",
            "Requested to load GPT2LMHeadModel\n",
            "Loading 2 new models\n",
            "[Fooocus Model Management] Moving model(s) has taken 1.56 seconds\n",
            "[Fooocus] Processing prompts ...\n",
            "[Fooocus] Preparing Fooocus text #1 ...\n",
            "[Prompt Expansion] mujer en la palya, exquisite detail, extremely quality, cinematic atmosphere, light color, beautiful detailed, intricate, stunning composition, highly thought, aesthetic, perfect background, professional, winning creative, gorgeous, elegant, epic, best, dramatic, full saturated colors, cool, glowing, inspired, vibrant, complex, brilliant, symmetry, focused, clear, polished\n",
            "[Fooocus] Preparing Fooocus text #2 ...\n",
            "[Prompt Expansion] mujer en la palya, surreal, vibrant, magic, amazing, perfect composition, cinematic atmosphere, dynamic dramatic, aesthetic, very inspirational, glowing, detailed, color, winning, fine detail, full intricate, still, highly coherent, appealing, scientific, artistic, sharp focus, elegant, complex, epic, hopeful, colorful, incredible, light, shining\n",
            "[Fooocus] Preparing Fooocus text #3 ...\n",
            "[Prompt Expansion] mujer en la palya, cinematic, elegant, intricate, highly detailed, complex, color, light, dramatic, sharp focus, beautiful, symmetry, magical, mystical, professional, winning, artistic, surreal, full detail, very fine, amazing, perfect, inspired, colorful, epic, best, futuristic, background, sunny, excellent, atmosphere, optimistic\n",
            "[Fooocus] Encoding positive #1 ...\n",
            "[Fooocus Model Management] Moving model(s) has taken 0.12 seconds\n",
            "[Fooocus] Encoding positive #2 ...\n",
            "[Fooocus] Encoding positive #3 ...\n",
            "[Fooocus] Encoding negative #1 ...\n",
            "[Fooocus] Encoding negative #2 ...\n",
            "[Fooocus] Encoding negative #3 ...\n",
            "[Parameters] Denoising Strength = 1.0\n",
            "[Parameters] Initial Latent shape: Image Space (1152, 896)\n",
            "Preparation time: 56.02 seconds\n",
            "Using karras scheduler.\n",
            "[Fooocus] Preparing task 1/3 ...\n",
            "[Sampler] refiner_swap_method = joint\n",
            "[Sampler] sigma_min = 0.0291671771556139, sigma_max = 14.614643096923828\n",
            "Requested to load SDXL\n",
            "Loading 1 new model\n",
            "[Fooocus Model Management] Moving model(s) has taken 2.59 seconds\n",
            "100% 30/30 [00:25<00:00,  1.17it/s]\n",
            "Requested to load AutoencoderKL\n",
            "Loading 1 new model\n",
            "[Fooocus Model Management] Moving model(s) has taken 0.33 seconds\n",
            "[Fooocus] Saving image 1/3 to system ...\n",
            "Image generated with private log at: /content/gdrive/MyDrive/Fooocus/outputs/2024-09-16/log.html\n",
            "Generating and saving time: 31.31 seconds\n",
            "[Fooocus] Preparing task 2/3 ...\n",
            "[Sampler] refiner_swap_method = joint\n",
            "[Sampler] sigma_min = 0.0291671771556139, sigma_max = 14.614643096923828\n",
            "Requested to load SDXL\n",
            "Loading 1 new model\n",
            "[Fooocus Model Management] Moving model(s) has taken 0.75 seconds\n",
            "100% 30/30 [00:26<00:00,  1.14it/s]\n",
            "Requested to load AutoencoderKL\n",
            "Loading 1 new model\n",
            "[Fooocus Model Management] Moving model(s) has taken 0.27 seconds\n",
            "[Fooocus] Saving image 2/3 to system ...\n",
            "Image generated with private log at: /content/gdrive/MyDrive/Fooocus/outputs/2024-09-16/log.html\n",
            "Generating and saving time: 30.13 seconds\n",
            "[Fooocus] Preparing task 3/3 ...\n",
            "[Sampler] refiner_swap_method = joint\n",
            "[Sampler] sigma_min = 0.0291671771556139, sigma_max = 14.614643096923828\n",
            "Requested to load SDXL\n",
            "Loading 1 new model\n",
            "[Fooocus Model Management] Moving model(s) has taken 0.74 seconds\n",
            "100% 30/30 [00:28<00:00,  1.06it/s]\n",
            "Requested to load AutoencoderKL\n",
            "Loading 1 new model\n",
            "[Fooocus Model Management] Moving model(s) has taken 0.23 seconds\n",
            "[Fooocus] Saving image 3/3 to system ...\n",
            "Image generated with private log at: /content/gdrive/MyDrive/Fooocus/outputs/2024-09-16/log.html\n",
            "Generating and saving time: 31.85 seconds\n",
            "[Fooocus] Processing enhance ...\n",
            "Enhancement image time: 0.00 seconds\n",
            "Enhancement image time: 0.00 seconds\n",
            "Enhancement image time: 0.00 seconds\n",
            "Processing time (total): 93.30 seconds\n",
            "Requested to load SDXLClipModel\n",
            "Requested to load GPT2LMHeadModel\n",
            "Loading 2 new models\n",
            "[Fooocus Model Management] Moving model(s) has taken 1.00 seconds\n",
            "Loaded preset: /content/gdrive/MyDrive/Fooocus/presets/realistic.json\n",
            "[Parameters] Adaptive CFG = 7\n",
            "[Parameters] CLIP Skip = 2\n",
            "[Parameters] Sharpness = 2\n",
            "[Parameters] ControlNet Softness = 0.25\n",
            "[Parameters] ADM Scale = 1.5 : 0.8 : 0.3\n",
            "[Parameters] Seed = 4041936878819160922\n",
            "[Parameters] CFG = 3\n",
            "[Fooocus] Loading control models ...\n",
            "[Parameters] Sampler = dpmpp_2m_sde_gpu - karras\n",
            "[Parameters] Steps = 30 - 15\n",
            "[Fooocus] Initializing ...\n",
            "[Fooocus] Loading models ...\n",
            "Refiner unloaded.\n",
            "Request to load LoRAs [('flux_train_replicate.safetensors', 1.62)] for model [/content/gdrive/MyDrive/Fooocus/models/checkpoints/realisticStockPhoto_v20.safetensors].\n",
            "Lora file not found: /content/gdrive/MyDrive/Fooocus/models/loras/flux_train_replicate.safetensors\n",
            "Requested to load SDXLClipModel\n",
            "Loading 1 new model\n",
            "unload clone 1\n",
            "[Fooocus Model Management] Moving model(s) has taken 1.00 seconds\n",
            "[Fooocus] Processing prompts ...\n",
            "[Fooocus] Preparing Fooocus text #1 ...\n",
            "[Prompt Expansion] mujer en la palya, lismarie, <lismarie:1.6> desnuda, glossy color, cinematic light, coherent, romantic, enchanted, magic, glowing, lush, precious, pretty, perfect, background, magical, stunning, brave, detailed, artistic, winning, illuminated, beautiful, dramatic, passionate, intricate, glorious\n",
            "[Fooocus] Preparing Fooocus text #2 ...\n",
            "[Prompt Expansion] mujer en la palya, lismarie, <lismarie:1.6> desnuda, cinematic, elegant, intricate, highly detailed, romantic, complex, sharp focus, professional composition, magical atmosphere, pristine, beautiful, symmetry, fine detail, pretty, enhanced, full color, attractive, artistic, cute, divine, novel, glossy\n",
            "[Fooocus] Encoding positive #1 ...\n",
            "[Fooocus Model Management] Moving model(s) has taken 0.14 seconds\n",
            "[Fooocus] Encoding positive #2 ...\n",
            "[Fooocus] Encoding negative #1 ...\n",
            "[Fooocus] Encoding negative #2 ...\n",
            "[Parameters] Denoising Strength = 1.0\n",
            "[Parameters] Initial Latent shape: Image Space (1152, 896)\n",
            "Preparation time: 3.21 seconds\n",
            "Using karras scheduler.\n",
            "[Fooocus] Preparing task 1/2 ...\n",
            "[Sampler] refiner_swap_method = joint\n",
            "[Sampler] sigma_min = 0.0291671771556139, sigma_max = 14.614643096923828\n",
            "Requested to load SDXL\n",
            "Loading 1 new model\n",
            "[Fooocus Model Management] Moving model(s) has taken 1.27 seconds\n",
            "100% 30/30 [00:25<00:00,  1.18it/s]\n",
            "Requested to load AutoencoderKL\n",
            "Loading 1 new model\n",
            "[Fooocus Model Management] Moving model(s) has taken 0.20 seconds\n",
            "[Fooocus] Saving image 1/2 to system ...\n",
            "Image generated with private log at: /content/gdrive/MyDrive/Fooocus/outputs/2024-09-16/log.html\n",
            "Generating and saving time: 29.53 seconds\n",
            "[Fooocus] Preparing task 2/2 ...\n",
            "[Sampler] refiner_swap_method = joint\n",
            "[Sampler] sigma_min = 0.0291671771556139, sigma_max = 14.614643096923828\n",
            "Requested to load SDXL\n",
            "Loading 1 new model\n",
            "[Fooocus Model Management] Moving model(s) has taken 0.16 seconds\n",
            "100% 30/30 [00:27<00:00,  1.10it/s]\n",
            "Requested to load AutoencoderKL\n",
            "Loading 1 new model\n",
            "[Fooocus Model Management] Moving model(s) has taken 0.14 seconds\n",
            "[Fooocus] Saving image 2/2 to system ...\n",
            "Image generated with private log at: /content/gdrive/MyDrive/Fooocus/outputs/2024-09-16/log.html\n",
            "Generating and saving time: 30.29 seconds\n",
            "[Fooocus] Processing enhance ...\n",
            "Enhancement image time: 0.00 seconds\n",
            "Enhancement image time: 0.00 seconds\n",
            "Processing time (total): 59.83 seconds\n",
            "Requested to load SDXLClipModel\n",
            "Requested to load GPT2LMHeadModel\n",
            "Loading 2 new models\n",
            "[Fooocus Model Management] Moving model(s) has taken 0.79 seconds\n"
          ]
        }
      ]
    }
  ],
  "metadata": {
    "accelerator": "GPU",
    "colab": {
      "gpuType": "T4",
      "provenance": [],
      "include_colab_link": true
    },
    "kernelspec": {
      "display_name": "Python 3",
      "name": "python3"
    },
    "language_info": {
      "name": "python"
    }
  },
  "nbformat": 4,
  "nbformat_minor": 0
}