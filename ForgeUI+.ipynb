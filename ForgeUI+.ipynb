{
  "cells": [
    {
      "cell_type": "markdown",
      "metadata": {
        "id": "view-in-github",
        "colab_type": "text"
      },
      "source": [
        "<a href=\"https://colab.research.google.com/github/saysenbl/SDXL/blob/main/ForgeUI%2B.ipynb\" target=\"_parent\"><img src=\"https://colab.research.google.com/assets/colab-badge.svg\" alt=\"Open In Colab\"/></a>"
      ]
    },
    {
      "cell_type": "markdown",
      "metadata": {
        "id": "vEN0vTM7OgyS"
      },
      "source": [
        "# Mount to Google Drive"
      ]
    },
    {
      "cell_type": "code",
      "execution_count": null,
      "metadata": {
        "id": "wLRG7Kn_G94p",
        "colab": {
          "base_uri": "https://localhost:8080/"
        },
        "outputId": "8106b001-90b5-44f8-c9e6-673a2282e826"
      },
      "outputs": [
        {
          "output_type": "stream",
          "name": "stdout",
          "text": [
            "Drive already mounted at /content/gdrive; to attempt to forcibly remount, call drive.mount(\"/content/gdrive\", force_remount=True).\n"
          ]
        }
      ],
      "source": [
        "import requests\n",
        "from google.colab import drive\n",
        "import os\n",
        "drive.mount('/content/gdrive')"
      ]
    },
    {
      "cell_type": "markdown",
      "source": [
        "url de archivos para cargar"
      ],
      "metadata": {
        "id": "hlzFAaDft_qQ"
      }
    },
    {
      "cell_type": "code",
      "source": [
        "urls = [\n",
        "    'https://huggingface.co/lllyasviel/misc/resolve/main/xlvaeapp.pth',\n",
        "    'https://huggingface.co/lllyasviel/misc/resolve/main/vaeapp_sd15.pt',\n",
        "    'https://huggingface.co/mashb1t/misc/resolve/main/xl-to-v1_interposer-v4.0.safetensors',\n",
        "    'https://huggingface.co/lllyasviel/fav_models/resolve/main/fav/realisticStockPhoto_v20.safetensors',\n",
        "    'https://huggingface.co/mashb1t/fav_models/resolve/main/fav/SDXL_FILM_PHOTOGRAPHY_STYLE_V1.safetensors'\n",
        "]\n",
        "\n",
        "output_dirs = [\n",
        "    '/content/gdrive/MyDrive/stable-diffusion-webui-forge/models/VAE-approx/',\n",
        "    '/content/gdrive/MyDrive/stable-diffusion-webui-forge/models/VAE-approx/',\n",
        "    '/content/gdrive/MyDrive/stable-diffusion-webui-forge/models/VAE-approx/',\n",
        "    '/content/gdrive/MyDrive/stable-diffusion-webui-forge/models/Stable-diffusion/',\n",
        "    '/content/gdrive/MyDrive/stable-diffusion-webui-forge/models/Lora/'\n",
        "]\n",
        "\n",
        "nombres_archivos = [\n",
        "    'xlvaeapp.pth',\n",
        "    'vaeapp_sd15.pth',\n",
        "    'xl-to-v1_interposer-v4.0.safetensors',\n",
        "    'realisticStockPhoto_v20.safetensors',\n",
        "    'SDXL_FILM_PHOTOGRAPHY_STYLE_V1.safetensors'\n",
        "]\n",
        "\n"
      ],
      "metadata": {
        "id": "ZHZQOK2ItREU"
      },
      "execution_count": null,
      "outputs": []
    },
    {
      "cell_type": "markdown",
      "source": [
        "Descarga los archivos"
      ],
      "metadata": {
        "id": "c_Ed9kcmuV5k"
      }
    },
    {
      "cell_type": "code",
      "source": [
        "for url, output_dir, nombre_archivo in zip(urls, output_dirs, nombres_archivos):\n",
        "    response = requests.get(url)\n",
        "    with open(output_dir + nombre_archivo, 'wb') as file:\n",
        "        file.write(response.content)\n"
      ],
      "metadata": {
        "id": "fo7oB8Utt83e"
      },
      "execution_count": null,
      "outputs": []
    },
    {
      "cell_type": "markdown",
      "metadata": {
        "id": "e-7Ip80BOmG6"
      },
      "source": [
        "## Access MyDrive"
      ]
    },
    {
      "cell_type": "code",
      "execution_count": null,
      "metadata": {
        "colab": {
          "base_uri": "https://localhost:8080/"
        },
        "id": "Afny_TxdIHiQ",
        "outputId": "fdcab9f2-9da6-46e0-dfd8-740021e16348"
      },
      "outputs": [
        {
          "output_type": "stream",
          "name": "stdout",
          "text": [
            "/content/gdrive/MyDrive\n"
          ]
        }
      ],
      "source": [
        "%cd ./gdrive/MyDrive"
      ]
    },
    {
      "cell_type": "markdown",
      "metadata": {
        "id": "Hv9_SDTGOp_W"
      },
      "source": [
        "# Clone ForgeUI Repo - *run the first time only!*"
      ]
    },
    {
      "cell_type": "code",
      "execution_count": null,
      "metadata": {
        "colab": {
          "base_uri": "https://localhost:8080/"
        },
        "id": "98U1yRioHPRH",
        "outputId": "f0358d39-e3cb-4c2b-ddfc-353e7b6451b2"
      },
      "outputs": [
        {
          "output_type": "stream",
          "name": "stdout",
          "text": [
            "fatal: destination path 'stable-diffusion-webui-forge' already exists and is not an empty directory.\n"
          ]
        }
      ],
      "source": [
        "!git clone https://github.com/lllyasviel/stable-diffusion-webui-forge\n"
      ]
    },
    {
      "cell_type": "markdown",
      "metadata": {
        "id": "g5W47IuAcz5A"
      },
      "source": [
        "# Install requirements"
      ]
    },
    {
      "cell_type": "code",
      "execution_count": null,
      "metadata": {
        "colab": {
          "base_uri": "https://localhost:8080/"
        },
        "id": "wrx9ACwHHXFZ",
        "outputId": "bba184b4-32c2-4194-ad23-d46a69048633"
      },
      "outputs": [
        {
          "output_type": "stream",
          "name": "stdout",
          "text": [
            "Requirement already satisfied: pygit2==1.12.2 in /usr/local/lib/python3.10/dist-packages (1.12.2)\n",
            "Requirement already satisfied: cffi>=1.9.1 in /usr/local/lib/python3.10/dist-packages (from pygit2==1.12.2) (1.17.1)\n",
            "Requirement already satisfied: pycparser in /usr/local/lib/python3.10/dist-packages (from cffi>=1.9.1->pygit2==1.12.2) (2.22)\n"
          ]
        }
      ],
      "source": [
        "!pip install pygit2==1.12.2"
      ]
    },
    {
      "cell_type": "markdown",
      "metadata": {
        "id": "L-BwmGCSOXpp"
      },
      "source": [
        "# Initialise Stable Diffusion"
      ]
    },
    {
      "cell_type": "code",
      "execution_count": null,
      "metadata": {
        "colab": {
          "base_uri": "https://localhost:8080/"
        },
        "id": "0ydXeWW9vPhF",
        "outputId": "a9f6d7d7-df6f-4a7c-847e-555fc56be4e3"
      },
      "outputs": [
        {
          "output_type": "stream",
          "name": "stdout",
          "text": [
            "/content/gdrive/MyDrive/stable-diffusion-webui-forge\n",
            "Python 3.10.12 (main, Jul 29 2024, 16:56:48) [GCC 11.4.0]\n",
            "Version: f2.0.1v1.10.1-previous-530-g8bd7e056\n",
            "Commit hash: 8bd7e0568f4d942f4d17bcc7a6966e92d2b897eb\n",
            "Installing requirements\n",
            "Legacy Preprocessor init warning: Unable to install insightface automatically. Please try run `pip install insightface` manually.\n",
            "Launching Web UI with arguments: --share --enable-insecure-extension-access\n",
            "Total VRAM 15102 MB, total RAM 12979 MB\n",
            "pytorch version: 2.4.0+cu121\n",
            "Set vram state to: NORMAL_VRAM\n",
            "Device: cuda:0 Tesla T4 : native\n",
            "VAE dtype preferences: [torch.float32] -> torch.float32\n",
            "CUDA Using Stream: False\n",
            "2024-09-15 21:36:37.357670: E external/local_xla/xla/stream_executor/cuda/cuda_fft.cc:485] Unable to register cuFFT factory: Attempting to register factory for plugin cuFFT when one has already been registered\n",
            "2024-09-15 21:36:37.624685: E external/local_xla/xla/stream_executor/cuda/cuda_dnn.cc:8454] Unable to register cuDNN factory: Attempting to register factory for plugin cuDNN when one has already been registered\n",
            "2024-09-15 21:36:37.699109: E external/local_xla/xla/stream_executor/cuda/cuda_blas.cc:1452] Unable to register cuBLAS factory: Attempting to register factory for plugin cuBLAS when one has already been registered\n",
            "2024-09-15 21:36:38.141934: I tensorflow/core/platform/cpu_feature_guard.cc:210] This TensorFlow binary is optimized to use available CPU instructions in performance-critical operations.\n",
            "To enable the following instructions: AVX2 FMA, in other operations, rebuild TensorFlow with the appropriate compiler flags.\n",
            "2024-09-15 21:36:40.619314: W tensorflow/compiler/tf2tensorrt/utils/py_utils.cc:38] TF-TRT Warning: Could not find TensorRT\n",
            "Using pytorch cross attention\n",
            "Using pytorch attention for VAE\n",
            "ControlNet preprocessor location: /content/gdrive/MyDrive/stable-diffusion-webui-forge/models/ControlNetPreprocessor\n",
            "2024-09-15 21:36:56,590 - ControlNet - \u001b[0;32mINFO\u001b[0m - ControlNet UI callback registered.\n",
            "You do not have any model!\n",
            "Model selected: {'checkpoint_info': None, 'additional_modules': [], 'unet_storage_dtype': None}\n",
            "Using online LoRAs in FP16: False\n",
            "Running on local URL:  http://127.0.0.1:7860\n",
            "Running on public URL: https://7de6d14df01ffbd3f4.gradio.live\n",
            "\n",
            "This share link expires in 72 hours. For free permanent hosting and GPU upgrades, run `gradio deploy` from Terminal to deploy to Spaces (https://huggingface.co/spaces)\n",
            "Startup time: 42.0s (prepare environment: 9.6s, import torch: 20.7s, initialize shared: 0.2s, other imports: 1.2s, load scripts: 4.0s, create ui: 4.1s, gradio launch: 1.8s).\n",
            "Interrupted with signal 2 in <frame at 0x5991aa878170, file '/content/gdrive/MyDrive/stable-diffusion-webui-forge/modules_forge/main_thread.py', line 43, code loop>\n"
          ]
        }
      ],
      "source": [
        "%cd stable-diffusion-webui-forge/\n",
        "!python launch.py --share --enable-insecure-extension-access"
      ]
    },
    {
      "cell_type": "code",
      "execution_count": null,
      "metadata": {
        "id": "ugNyaHeO7tuV"
      },
      "outputs": [],
      "source": []
    },
    {
      "cell_type": "markdown",
      "source": [],
      "metadata": {
        "id": "booLvk9bhAwC"
      }
    },
    {
      "cell_type": "markdown",
      "source": [
        "# Agregar modelos ChetPoint"
      ],
      "metadata": {
        "id": "EEGtzPTqhD5N"
      }
    },
    {
      "cell_type": "code",
      "source": [
        "git clone https://huggingface.co/lllyasviel/fav_models/resolve/main/fav/realisticStockPhoto_v20.safetensors"
      ],
      "metadata": {
        "colab": {
          "base_uri": "https://localhost:8080/",
          "height": 106
        },
        "id": "CcTgiG4vrKw4",
        "outputId": "9710e973-27f8-454c-f37e-e64b0ee38813"
      },
      "execution_count": null,
      "outputs": [
        {
          "output_type": "error",
          "ename": "SyntaxError",
          "evalue": "invalid syntax (<ipython-input-1-18e50356bf2e>, line 1)",
          "traceback": [
            "\u001b[0;36m  File \u001b[0;32m\"<ipython-input-1-18e50356bf2e>\"\u001b[0;36m, line \u001b[0;32m1\u001b[0m\n\u001b[0;31m    git clone https://huggingface.co/lllyasviel/fav_models/resolve/main/fav/realisticStockPhoto_v20.safetensors\u001b[0m\n\u001b[0m        ^\u001b[0m\n\u001b[0;31mSyntaxError\u001b[0m\u001b[0;31m:\u001b[0m invalid syntax\n"
          ]
        }
      ]
    },
    {
      "cell_type": "code",
      "source": [
        "import requests\n",
        "import os\n",
        "\n",
        "# Lista de URLs de los modelos\n",
        "urls = [\n",
        "    \"https://huggingface.co/lllyasviel/fav_models/resolve/main/fav/realisticStockPhoto_v20.safetensors\"\n",
        "]\n",
        "\n",
        "# Directorio de destino\n",
        "output_dir = \"/content/gdrive/MyDrive/stable-diffusion-webui-forge/models/Stable-diffusion\"\n",
        "\n",
        "# Crear el directorio si no existe\n",
        "os.makedirs(output_dir, exist_ok=True)\n",
        "\n",
        "# Descargar cada archivo\n",
        "for url in urls:\n",
        "    # Obtener el nombre del archivo desde la URL\n",
        "    filename = url.split(\"/\")[-1]\n",
        "    output_path = os.path.join(output_dir, filename)\n",
        "\n",
        "    # Descargar el archivo\n",
        "    response = requests.get(url)\n",
        "    with open(output_path, 'wb') as file:\n",
        "        file.write(response.content)\n",
        "\n",
        "    print(f\"Modelo {filename} descargado y guardado en: {output_path}\")\n"
      ],
      "metadata": {
        "id": "bF4aOGTkhOFw"
      },
      "execution_count": null,
      "outputs": []
    }
  ],
  "metadata": {
    "accelerator": "GPU",
    "colab": {
      "gpuType": "T4",
      "provenance": [],
      "include_colab_link": true
    },
    "kernelspec": {
      "display_name": "Python 3",
      "name": "python3"
    },
    "language_info": {
      "name": "python"
    }
  },
  "nbformat": 4,
  "nbformat_minor": 0
}